{
  "nbformat": 4,
  "nbformat_minor": 0,
  "metadata": {
    "colab": {
      "provenance": []
    },
    "kernelspec": {
      "name": "python3",
      "display_name": "Python 3"
    },
    "language_info": {
      "name": "python"
    }
  },
  "cells": [
    {
      "cell_type": "code",
      "metadata": {
        "colab": {
          "base_uri": "https://localhost:8080/"
        },
        "id": "espKGhQot5af",
        "outputId": "af5a53d7-1036-4f5d-ea04-ec77a63908e7"
      },
      "source": [
        "print(\"Introduce los números del DNI uno por uno:\")\n",
        "nums = []\n",
        "for _ in range(8):\n",
        "  nums.append(int(input()))\n",
        "\n",
        "dni = 0\n",
        "for i in range(len(nums)):\n",
        "  dni += 10 ** (len(nums) - i - 1) * nums[i]\n",
        "  print(dni)\n",
        "\n",
        "letters = {0: \"T\", 1: \"R\", 2: \"W\", 3: \"A\", 4: \"G\", 5: \"M\", 6: \"Y\",\n",
        "           7: \"F\", 8: \"P\", 9: \"D\", 10: \"X\", 11: \"B\", 12: \"N\", 13: \"J\",\n",
        "           14: \"Z\", 15: \"S\", 16: \"Q\", 17: \"V\", 18: \"H\", 19: \"L\", 20: \"C\",\n",
        "           21: \"K\", 22: \"E\"}\n",
        "\n",
        "letter = letters[dni % 23]\n",
        "print(dni % 23)\n",
        "\n",
        "DNI = {\"numbers\": nums, \"letter\": letter}\n",
        "print(DNI)"
      ],
      "execution_count": null,
      "outputs": [
        {
          "output_type": "stream",
          "name": "stdout",
          "text": [
            "Introduce los números del DNI uno por uno:\n",
          ]
        }
      ]
    }
  ]
}
